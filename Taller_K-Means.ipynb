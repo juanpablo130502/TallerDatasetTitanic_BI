{
 "cells": [
  {
   "cell_type": "markdown",
   "metadata": {},
   "source": [
    "# _*TALLER INTELIGENCIA DE NEGOCIOS*_ (Clustering con K-Means)\n",
    "## _Integrantes_\n",
    "- Diego Olmedo\n",
    "- Nicolas Wilches\n",
    "- Mariana Chacon\n",
    "- Juan Mateus"
   ]
  },
  {
   "cell_type": "code",
   "execution_count": null,
   "metadata": {},
   "outputs": [],
   "source": [
    "import pandas as pd\n",
    "import numpy as np\n",
    "import matplotlib.pyplot as plt\n",
    "import seaborn as sns\n",
    "from sklearn.cluster import KMeans\n",
    "from sklearn.preprocessing import StandardScaler\n",
    "\n",
    "url = \"https://raw.githubusercontent.com/juanpablo130502/TallerDatasetTitanic_BI/refs/heads/main/Data/titanic_DS_19022025.csv\"\n",
    "df = pd.read_csv(url, delimiter=\";\")\n",
    "print(df.head(5))"
   ]
  }
 ],
 "metadata": {
  "kernelspec": {
   "display_name": "Python 3",
   "language": "python",
   "name": "python3"
  },
  "language_info": {
   "codemirror_mode": {
    "name": "ipython",
    "version": 3
   },
   "file_extension": ".py",
   "mimetype": "text/x-python",
   "name": "python",
   "nbconvert_exporter": "python",
   "pygments_lexer": "ipython3",
   "version": "3.12.9"
  }
 },
 "nbformat": 4,
 "nbformat_minor": 2
}
